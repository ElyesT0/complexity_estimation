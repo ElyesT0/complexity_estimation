{
 "cells": [
  {
   "cell_type": "code",
   "execution_count": 1,
   "id": "790b9f80-26f1-44f6-90a0-82a4367aea05",
   "metadata": {},
   "outputs": [],
   "source": [
    "from modules import *\n",
    "%load_ext autoreload\n",
    "%autoreload 2\n"
   ]
  },
  {
   "cell_type": "code",
   "execution_count": 2,
   "id": "c1fade08-84bf-4d9d-ac3f-70b9359c7be9",
   "metadata": {},
   "outputs": [],
   "source": [
    "df=pd.read_json(merged_processed_path)"
   ]
  },
  {
   "cell_type": "code",
   "execution_count": 18,
   "id": "13d9b7b3-f9fb-45aa-b005-1ba6af12eb5d",
   "metadata": {},
   "outputs": [],
   "source": [
    "# Check -- Excluded participants are not in the data anymore.\n",
    "#\n",
    "#unique_ids=[name for name in df[\"participant_ID\"].unique()]\n",
    "#np.isin(excluded_participants,unique_ids)"
   ]
  },
  {
   "cell_type": "code",
   "execution_count": null,
   "id": "1a8bb045-ff30-48c0-b532-efc2257261e2",
   "metadata": {},
   "outputs": [],
   "source": [
    "# Next step: think about how to plot the comparison between different geometrical conditions\n",
    "# Maybe two plots:\n",
    "# -- 1. Estimated complexity per geometrical condition\n",
    "# -- 2. Estimated complexity (x-axis) per temporal condition (y-axis) with one point\n",
    "#       per geometrical condition (roughly 3 points per line)."
   ]
  },
  {
   "cell_type": "code",
   "execution_count": null,
   "id": "f40c782c-586c-45c7-849e-eab142522d98",
   "metadata": {},
   "outputs": [],
   "source": []
  },
  {
   "cell_type": "code",
   "execution_count": null,
   "id": "d393a9ef-cca2-443f-8150-7b352e7e9447",
   "metadata": {},
   "outputs": [],
   "source": []
  }
 ],
 "metadata": {
  "kernelspec": {
   "display_name": "Data Analysis",
   "language": "python",
   "name": "data_analysis"
  },
  "language_info": {
   "codemirror_mode": {
    "name": "ipython",
    "version": 3
   },
   "file_extension": ".py",
   "mimetype": "text/x-python",
   "name": "python",
   "nbconvert_exporter": "python",
   "pygments_lexer": "ipython3",
   "version": "3.11.8"
  }
 },
 "nbformat": 4,
 "nbformat_minor": 5
}
