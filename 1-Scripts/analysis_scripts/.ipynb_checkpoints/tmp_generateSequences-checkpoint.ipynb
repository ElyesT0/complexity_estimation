{
 "cells": [
  {
   "cell_type": "code",
   "execution_count": 65,
   "id": "e76544b5-f2c0-4e34-95ea-d86b5ba3895d",
   "metadata": {},
   "outputs": [],
   "source": [
    "import numpy as np\n",
    "import pandas as pd\n",
    "\n",
    "dict_geom_patterns={\n",
    "    \"rot-1\":[0,1,2,3,4,5,6,7],\n",
    "    \"2-arcs\":[0,1,2,3,7,6,5,4],\n",
    "    \"irregular\":[7,3,6,0,4,1,2,5],\n",
    "    \"2-squares\":[0,2,4,6,7,1,3,5],\n",
    "    \"4-segments\":[0,1,7,2,6,3,5,4],\n",
    "    \"4-diagonals\":[0,4,1,5,2,6,3,7],\n",
    "    \"2-rectangles\": [0,5,4,1,6,3,2,7]\n",
    "}\n",
    "\n",
    "keys_dict_geom_patterns =[key for key in dict_geom_patterns.keys()]\n",
    "values_dict_geom_patterns=[value for value in dict_geom_patterns.values()]\n",
    "\n",
    "# ------------------------------------------------------------------\n",
    "\n",
    "dict_temp_patterns={\n",
    "    \"Rep-6\":[0,1,2,3,4,5,6,7,0,1,2,3,4,5,6,7],\n",
    "    \"Rep-Center\":[0,1,2,3,4,5,6,7,4,5,6,7,0,1,2,3], # ABCD.EFGH.EFGH.ABCD\n",
    "    \"Rep-4b4\" :[0,1,2,3,0,1,2,3,4,5,6,7,4,5,6,7], # ABCD.ABCD.EFGH.EFGH\n",
    "    \"Rep-2b2\" :[0,1,2,3,2,3,0,1,0,1,2,3,2,3,0,1] # AB.CDCD.ABAB.CD(CDAB)\n",
    "}\n",
    "\n",
    "keys_dict_temp_patterns =[key for key in dict_temp_patterns.keys()]\n",
    "values_dict_temp_patterns=[value for value in dict_temp_patterns.values()]\n",
    "\n",
    "# ------------------------------------------------------------------\n",
    "\n"
   ]
  },
  {
   "cell_type": "code",
   "execution_count": 77,
   "id": "2bd03136-8578-4b1d-a9dd-979e542d5147",
   "metadata": {},
   "outputs": [
    {
     "name": "stderr",
     "output_type": "stream",
     "text": [
      "/var/folders/14/1wp2gs4s4k9094qkx6kvfvq00000gn/T/ipykernel_23357/2756630697.py:17: FutureWarning: unique with argument that is not not a Series, Index, ExtensionArray, or np.ndarray is deprecated and will raise in a future version.\n",
      "  intermediate_dict={key:val for (key,val) in zip(pd.unique(seqTemp),pd.unique(geom_pattern))}\n"
     ]
    },
    {
     "data": {
      "text/plain": [
       "{'Rep-6': [0, 1, 2, 3, 7, 6, 5, 4, 0, 1, 2, 3, 7, 6, 5, 4],\n",
       " 'Rep-Center': [0, 1, 2, 3, 7, 6, 5, 4, 7, 6, 5, 4, 0, 1, 2, 3],\n",
       " 'Rep-4b4': [0, 1, 2, 3, 0, 1, 2, 3, 7, 6, 5, 4, 7, 6, 5, 4],\n",
       " 'Rep-2b2': [0, 1, 2, 3, 2, 3, 0, 1, 0, 1, 2, 3, 2, 3, 0, 1]}"
      ]
     },
     "execution_count": 77,
     "metadata": {},
     "output_type": "execute_result"
    }
   ],
   "source": [
    "outer_dict={}\n",
    "\n",
    "\n",
    "for outer_index in range(len(values_dict_geom_patterns)):\n",
    "    outer_key=keys_dict_geom_patterns[outer_index]\n",
    "    geom_pattern=values_dict_geom_patterns[outer_index]\n",
    "    #print('outer_key :',outer_key)\n",
    "    #print('geom_pattern :',geom_pattern)\n",
    "    #print('---------------\\n')\n",
    "    \n",
    "    inner_dict={}\n",
    "    for index_temp in range(len(values_dict_temp_patterns)):\n",
    "        seqTemp=values_dict_temp_patterns[index_temp]\n",
    "        nameTemp=keys_dict_temp_patterns[index_temp]\n",
    "        #print('nameTemp :',nameTemp)\n",
    "        \n",
    "        intermediate_dict={key:val for (key,val) in zip(pd.unique(seqTemp),pd.unique(geom_pattern))}\n",
    "        #print('seqTemp :',seqTemp)\n",
    "        #print('intermediate_dict :',intermediate_dict)\n",
    "        inner_dict[nameTemp]=[intermediate_dict[val] for val in seqTemp]\n",
    "    outer_dict[outer_key]=inner_dict\n",
    "\n",
    "\n"
   ]
  },
  {
   "cell_type": "code",
   "execution_count": 47,
   "id": "c2616463-9b0a-4270-95b0-64a720a4a80c",
   "metadata": {},
   "outputs": [
    {
     "name": "stdout",
     "output_type": "stream",
     "text": [
      "seqG :  [0, 1, 2, 3, 7, 6, 5, 4]\n",
      "seqT :  [0, 1, 2, 3, 4, 5, 6, 7, 4, 5, 6, 7, 0, 1, 2, 3]\n",
      "intermediate_dict :  {0: 0, 1: 1, 2: 2, 3: 3, 4: 7, 5: 6, 6: 5, 7: 4}\n",
      "---------------\n",
      "\n",
      "mapped_seq :  [0, 1, 2, 3, 7, 6, 5, 4, 7, 6, 5, 4, 0, 1, 2, 3]\n"
     ]
    }
   ],
   "source": [
    "seqG=values_dict_geom_patterns[1]\n",
    "print('seqG : ',seqG)\n",
    "\n",
    "seqT=values_dict_temp_patterns[1]\n",
    "print('seqT : ',seqT)\n",
    "\n",
    "intermediate_dict={key:val for (key,val) in zip(seqT[:len(seqG)],seqG)}\n",
    "print('intermediate_dict : ',intermediate_dict)\n",
    "\n",
    "print('---------------\\n')\n",
    "mapped_seq=[intermediate_dict[val] for val in seqT]\n",
    "print('mapped_seq : ',mapped_seq)"
   ]
  },
  {
   "cell_type": "code",
   "execution_count": 25,
   "id": "876c0e8b-f8ba-4e01-b5a7-3eb27e6ad489",
   "metadata": {},
   "outputs": [
    {
     "data": {
      "text/plain": [
       "{'rot-1': {'Rep-6': [0, 1, 2, 3, 4, 5, 6, 7, 0, 1, 2, 3, 4, 5, 6, 7],\n",
       "  'Rep-Center': [0, 1, 2, 3, 4, 5, 6, 7, 0, 1, 2, 3, 4, 5, 6, 7],\n",
       "  'Rep-4b4': [0, 1, 2, 3, 4, 5, 6, 7, 0, 1, 2, 3, 4, 5, 6, 7],\n",
       "  'Rep-2b2': [0, 1, 2, 3, 4, 5, 6, 7, 0, 1, 2, 3, 4, 5, 6, 7]},\n",
       " '2-arcs': {'Rep-6': [0, 1, 2, 3, 4, 7, 6, 5, 0, 1, 2, 3, 4, 7, 6, 5],\n",
       "  'Rep-Center': [0, 1, 2, 3, 4, 7, 6, 5, 0, 1, 2, 3, 4, 7, 6, 5],\n",
       "  'Rep-4b4': [0, 1, 2, 3, 4, 7, 6, 5, 0, 1, 2, 3, 4, 7, 6, 5],\n",
       "  'Rep-2b2': [0, 1, 2, 3, 4, 7, 6, 5, 0, 1, 2, 3, 4, 7, 6, 5]},\n",
       " 'irregular': {'Rep-6': [8, 4, 7, 1, 5, 2, 3, 6, 8, 4, 7, 1, 5, 2, 3, 6],\n",
       "  'Rep-Center': [8, 4, 7, 1, 5, 2, 3, 6, 8, 4, 7, 1, 5, 2, 3, 6],\n",
       "  'Rep-4b4': [8, 4, 7, 1, 5, 2, 3, 6, 8, 4, 7, 1, 5, 2, 3, 6],\n",
       "  'Rep-2b2': [8, 4, 7, 1, 5, 2, 3, 6, 8, 4, 7, 1, 5, 2, 3, 6]},\n",
       " '2-squares': {'Rep-6': [1, 3, 5, 7, 8, 2, 4, 6, 1, 3, 5, 7, 8, 2, 4, 6],\n",
       "  'Rep-Center': [1, 3, 5, 7, 8, 2, 4, 6, 1, 3, 5, 7, 8, 2, 4, 6],\n",
       "  'Rep-4b4': [1, 3, 5, 7, 8, 2, 4, 6, 1, 3, 5, 7, 8, 2, 4, 6],\n",
       "  'Rep-2b2': [1, 3, 5, 7, 8, 2, 4, 6, 1, 3, 5, 7, 8, 2, 4, 6]},\n",
       " '4-segments': {'Rep-6': [1, 2, 8, 3, 7, 4, 6, 5, 1, 2, 8, 3, 7, 4, 6, 5],\n",
       "  'Rep-Center': [1, 2, 8, 3, 7, 4, 6, 5, 1, 2, 8, 3, 7, 4, 6, 5],\n",
       "  'Rep-4b4': [1, 2, 8, 3, 7, 4, 6, 5, 1, 2, 8, 3, 7, 4, 6, 5],\n",
       "  'Rep-2b2': [1, 2, 8, 3, 7, 4, 6, 5, 1, 2, 8, 3, 7, 4, 6, 5]},\n",
       " '4-diagonals': {'Rep-6': [1, 5, 2, 6, 3, 7, 4, 8, 1, 5, 2, 6, 3, 7, 4, 8],\n",
       "  'Rep-Center': [1, 5, 2, 6, 3, 7, 4, 8, 1, 5, 2, 6, 3, 7, 4, 8],\n",
       "  'Rep-4b4': [1, 5, 2, 6, 3, 7, 4, 8, 1, 5, 2, 6, 3, 7, 4, 8],\n",
       "  'Rep-2b2': [1, 5, 2, 6, 3, 7, 4, 8, 1, 5, 2, 6, 3, 7, 4, 8]},\n",
       " '2-rectangles': {'Rep-6': [1, 6, 5, 2, 7, 4, 3, 8, 1, 6, 5, 2, 7, 4, 3, 8],\n",
       "  'Rep-Center': [1, 6, 5, 2, 7, 4, 3, 8, 1, 6, 5, 2, 7, 4, 3, 8],\n",
       "  'Rep-4b4': [1, 6, 5, 2, 7, 4, 3, 8, 1, 6, 5, 2, 7, 4, 3, 8],\n",
       "  'Rep-2b2': [1, 6, 5, 2, 7, 4, 3, 8, 1, 6, 5, 2, 7, 4, 3, 8]}}"
      ]
     },
     "execution_count": 25,
     "metadata": {},
     "output_type": "execute_result"
    }
   ],
   "source": [
    "# Initialize a dictionary to store the mapped patterns\n",
    "mapped_patterns = {}\n",
    "\n",
    "# Iterate over each key-value pair in geometric patterns\n",
    "for geom_key, geom_value in dict_geom_patterns.items():\n",
    "    mapped_patterns[geom_key] = {}\n",
    "    \n",
    "    # Iterate over each key-value pair in temporal patterns\n",
    "    for temp_key, temp_value in dict_temp_patterns.items():\n",
    "        # Map by repeating the geometric pattern to fit the length of the temporal pattern\n",
    "        mapped_patterns[geom_key][temp_key] = [geom_value[i % len(geom_value)] for i in range(len(temp_value))]\n",
    "\n",
    "# Output the mapped patterns for verification\n",
    "mapped_patterns\n"
   ]
  }
 ],
 "metadata": {
  "kernelspec": {
   "display_name": "Python 3 (ipykernel)",
   "language": "python",
   "name": "python3"
  },
  "language_info": {
   "codemirror_mode": {
    "name": "ipython",
    "version": 3
   },
   "file_extension": ".py",
   "mimetype": "text/x-python",
   "name": "python",
   "nbconvert_exporter": "python",
   "pygments_lexer": "ipython3",
   "version": "3.11.8"
  }
 },
 "nbformat": 4,
 "nbformat_minor": 5
}
