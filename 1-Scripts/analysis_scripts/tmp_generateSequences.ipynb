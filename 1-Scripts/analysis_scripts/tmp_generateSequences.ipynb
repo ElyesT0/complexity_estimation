{
 "cells": [
  {
   "cell_type": "code",
   "execution_count": 65,
   "id": "e76544b5-f2c0-4e34-95ea-d86b5ba3895d",
   "metadata": {},
   "outputs": [],
   "source": [
    "import numpy as np\n",
    "import pandas as pd\n",
    "\n",
    "dict_geom_patterns={\n",
    "    \"rot-1\":[0,1,2,3,4,5,6,7],\n",
    "    \"2-arcs\":[0,1,2,3,7,6,5,4],\n",
    "    \"irregular\":[7,3,6,0,4,1,2,5],\n",
    "    \"2-squares\":[0,2,4,6,7,1,3,5],\n",
    "    \"4-segments\":[0,1,7,2,6,3,5,4],\n",
    "    \"4-diagonals\":[0,4,1,5,2,6,3,7],\n",
    "    \"2-rectangles\": [0,5,4,1,6,3,2,7]\n",
    "}\n",
    "\n",
    "keys_dict_geom_patterns =[key for key in dict_geom_patterns.keys()]\n",
    "values_dict_geom_patterns=[value for value in dict_geom_patterns.values()]\n",
    "\n",
    "# ------------------------------------------------------------------\n",
    "\n",
    "dict_temp_patterns={\n",
    "    \"Rep-6\":[0,1,2,3,4,5,6,7,0,1,2,3,4,5,6,7],\n",
    "    \"Rep-Center\":[0,1,2,3,4,5,6,7,4,5,6,7,0,1,2,3], # ABCD.EFGH.EFGH.ABCD\n",
    "    \"Rep-4b4\" :[0,1,2,3,0,1,2,3,4,5,6,7,4,5,6,7], # ABCD.ABCD.EFGH.EFGH\n",
    "    \"Rep-2b2\" :[0,1,2,3,2,3,0,1,0,1,2,3,2,3,0,1] # AB.CDCD.ABAB.CD(CDAB)\n",
    "}\n",
    "\n",
    "keys_dict_temp_patterns =[key for key in dict_temp_patterns.keys()]\n",
    "values_dict_temp_patterns=[value for value in dict_temp_patterns.values()]\n",
    "\n",
    "# ------------------------------------------------------------------\n",
    "outer_dict={}\n",
    "\n",
    "\n",
    "for outer_index in range(len(values_dict_geom_patterns)):\n",
    "    outer_key=keys_dict_geom_patterns[outer_index]\n",
    "    geom_pattern=values_dict_geom_patterns[outer_index]\n",
    "    #print('outer_key :',outer_key)\n",
    "    #print('geom_pattern :',geom_pattern)\n",
    "    #print('---------------\\n')\n",
    "    \n",
    "    inner_dict={}\n",
    "    for index_temp in range(len(values_dict_temp_patterns)):\n",
    "        seqTemp=values_dict_temp_patterns[index_temp]\n",
    "        nameTemp=keys_dict_temp_patterns[index_temp]\n",
    "        #print('nameTemp :',nameTemp)\n",
    "        \n",
    "        intermediate_dict={key:val for (key,val) in zip(pd.unique(seqTemp),pd.unique(geom_pattern))}\n",
    "        #print('seqTemp :',seqTemp)\n",
    "        #print('intermediate_dict :',intermediate_dict)\n",
    "        inner_dict[nameTemp]=[intermediate_dict[val] for val in seqTemp]\n",
    "    outer_dict[outer_key]=inner_dict\n"
   ]
  }
 ],
 "metadata": {
  "kernelspec": {
   "display_name": "Python 3 (ipykernel)",
   "language": "python",
   "name": "python3"
  },
  "language_info": {
   "codemirror_mode": {
    "name": "ipython",
    "version": 3
   },
   "file_extension": ".py",
   "mimetype": "text/x-python",
   "name": "python",
   "nbconvert_exporter": "python",
   "pygments_lexer": "ipython3",
   "version": "3.11.8"
  }
 },
 "nbformat": 4,
 "nbformat_minor": 5
}
